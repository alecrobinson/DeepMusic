{
 "cells": [
  {
   "cell_type": "code",
   "execution_count": 2,
   "metadata": {},
   "outputs": [
    {
     "name": "stderr",
     "output_type": "stream",
     "text": [
      "C:\\Users\\alecr\\Anaconda3\\lib\\site-packages\\h5py\\__init__.py:36: FutureWarning: Conversion of the second argument of issubdtype from `float` to `np.floating` is deprecated. In future, it will be treated as `np.float64 == np.dtype(float).type`.\n",
      "  from ._conv import register_converters as _register_converters\n",
      "Using TensorFlow backend.\n"
     ]
    }
   ],
   "source": [
    "import glob\n",
    "import pickle\n",
    "import numpy\n",
    "from music21 import converter, instrument, note, chord, interval, pitch\n",
    "from keras.models import Sequential\n",
    "from keras.layers import Dense\n",
    "from keras.layers import Dropout\n",
    "from keras.layers import LSTM\n",
    "from keras.layers import Activation\n",
    "from keras.utils import np_utils\n",
    "from keras.callbacks import ModelCheckpoint\n"
   ]
  },
  {
   "cell_type": "code",
   "execution_count": 3,
   "metadata": {},
   "outputs": [],
   "source": [
    "def get_notes(transpose=False):\n",
    "    \"\"\" Get all the notes and chords from the midi files in the ./midi_songs directory \"\"\"\n",
    "    print('starting get_notes')\n",
    "    notes = []\n",
    "\n",
    "    for file in glob.glob(\"C:/Users/alecr/Projects/temp-data/skuldur-classical-piano-composer/*.mid\"):\n",
    "        s = converter.parse(file)\n",
    "        \n",
    "        if (transpose):\n",
    "            k = s.analyze('key')\n",
    "            #print(k)\n",
    "            i = interval.Interval(k.tonic, pitch.Pitch('C'))\n",
    "            midi = s.transpose(i)\n",
    "            #print('piece was in ',k, 'now in ', midi.analyze('key'))\n",
    "        else:\n",
    "            midi = s\n",
    "        #print(i)\n",
    "        #print('s now in ', midi.analyze('key'))\n",
    "        #pieces.append(sNew)\n",
    "\n",
    "        #print(\"Parsing %s\" % file)\n",
    "\n",
    "        notes_to_parse = None\n",
    "\n",
    "        try: # file has instrument parts\n",
    "            s2 = instrument.partitionByInstrument(midi)\n",
    "            notes_to_parse = s2.parts[0].recurse() \n",
    "        except: # file has notes in a flat structure\n",
    "            notes_to_parse = midi.flat.notes\n",
    "\n",
    "        for element in notes_to_parse:\n",
    "            if isinstance(element, note.Note):\n",
    "                notes.append(str(element.pitch))\n",
    "            elif isinstance(element, chord.Chord):\n",
    "                notes.append('.'.join(str(n) for n in element.normalOrder))\n",
    "\n",
    "    #with open('data/notes', 'wb') as filepath:\n",
    "        #pickle.dump(notes, filepath)\n",
    "    print('done')\n",
    "    return notes"
   ]
  },
  {
   "cell_type": "markdown",
   "metadata": {},
   "source": [
    "pickle dump"
   ]
  },
  {
   "cell_type": "code",
   "execution_count": 5,
   "metadata": {},
   "outputs": [
    {
     "name": "stdout",
     "output_type": "stream",
     "text": [
      "dumped\n"
     ]
    }
   ],
   "source": [
    "fileObject = open(\"C:/Users/alecr/Projects/deepmusic/pickledump/notes\",'wb')\n",
    "pickle.dump(notes,fileObject)\n",
    "fileObject.close()\n",
    "print('dumped')"
   ]
  },
  {
   "cell_type": "markdown",
   "metadata": {},
   "source": [
    "The transpose flag will be used for augmenting the data"
   ]
  },
  {
   "cell_type": "code",
   "execution_count": 5,
   "metadata": {},
   "outputs": [],
   "source": [
    "def prepare_sequences(notes, n_vocab):\n",
    "    \"\"\" Prepare the sequences used by the Neural Network \"\"\"\n",
    "    sequence_length = 100\n",
    "\n",
    "    # get all pitch names\n",
    "    pitchnames = sorted(set(item for item in notes))\n",
    "\n",
    "     # create a dictionary to map pitches to integers\n",
    "    note_to_int = dict((note, number) for number, note in enumerate(pitchnames))\n",
    "\n",
    "    network_input = []\n",
    "    network_output = []\n",
    "\n",
    "    # create input sequences and the corresponding outputs\n",
    "    for i in range(0, len(notes) - sequence_length, 1):\n",
    "        sequence_in = notes[i:i + sequence_length]\n",
    "        sequence_out = notes[i + sequence_length]\n",
    "        network_input.append([note_to_int[char] for char in sequence_in])\n",
    "        network_output.append(note_to_int[sequence_out])\n",
    "\n",
    "    n_patterns = len(network_input)\n",
    "\n",
    "    # reshape the input into a format compatible with LSTM layers\n",
    "    network_input = numpy.reshape(network_input, (n_patterns, sequence_length, 1))\n",
    "    # normalize input\n",
    "    network_input = network_input / float(n_vocab)\n",
    "\n",
    "    network_output = np_utils.to_categorical(network_output)\n",
    "\n",
    "    return (network_input, network_output)"
   ]
  },
  {
   "cell_type": "raw",
   "metadata": {},
   "source": [
    "#network_input = None\n",
    "#network_output = None"
   ]
  },
  {
   "cell_type": "markdown",
   "metadata": {},
   "source": [
    "# Non transposing original"
   ]
  },
  {
   "cell_type": "code",
   "execution_count": 6,
   "metadata": {},
   "outputs": [
    {
     "name": "stdout",
     "output_type": "stream",
     "text": [
      "starting get_notes\n",
      "done\n",
      "notes and sequences prepared\n"
     ]
    }
   ],
   "source": [
    "\n",
    "\"\"\" Train a Neural Network to generate music \"\"\"\n",
    "notes = get_notes(transpose=False)\n",
    "\n",
    "# get amount of pitch names\n",
    "n_vocab = len(set(notes))\n",
    "\n",
    "network_input, network_output = prepare_sequences(notes, n_vocab)\n",
    "\n",
    "\n",
    "print('notes and sequences prepared')"
   ]
  },
  {
   "cell_type": "code",
   "execution_count": 7,
   "metadata": {},
   "outputs": [
    {
     "data": {
      "text/plain": [
       "(57077, 100, 1)"
      ]
     },
     "execution_count": 7,
     "metadata": {},
     "output_type": "execute_result"
    }
   ],
   "source": [
    "network_input.shape"
   ]
  },
  {
   "cell_type": "code",
   "execution_count": 1,
   "metadata": {},
   "outputs": [],
   "source": [
    "#network_input[0]"
   ]
  },
  {
   "cell_type": "code",
   "execution_count": null,
   "metadata": {},
   "outputs": [],
   "source": []
  },
  {
   "cell_type": "code",
   "execution_count": 9,
   "metadata": {
    "scrolled": true
   },
   "outputs": [
    {
     "data": {
      "text/plain": [
       "57177"
      ]
     },
     "execution_count": 9,
     "metadata": {},
     "output_type": "execute_result"
    }
   ],
   "source": [
    "len(notes)"
   ]
  },
  {
   "cell_type": "code",
   "execution_count": 8,
   "metadata": {},
   "outputs": [],
   "source": [
    "model = Sequential()\n",
    "model.add(LSTM(\n",
    "        512,\n",
    "        input_shape=(network_input.shape[1], network_input.shape[2]),\n",
    "        return_sequences=True\n",
    "))\n",
    "model.add(Dropout(0.3))\n",
    "model.add(LSTM(512, return_sequences=True))\n",
    "model.add(Dropout(0.3))\n",
    "model.add(LSTM(512))\n",
    "model.add(Dense(256))\n",
    "model.add(Dropout(0.3))\n",
    "model.add(Dense(n_vocab))\n",
    "model.add(Activation('softmax'))\n",
    "model.compile(loss='categorical_crossentropy', optimizer='rmsprop')\n"
   ]
  },
  {
   "cell_type": "code",
   "execution_count": 10,
   "metadata": {},
   "outputs": [],
   "source": [
    "model.load_weights(\"C:/Users/alecr/Projects/deepmusic/models/weights-improvement-60-1.5352-bigger.hdf5\")"
   ]
  },
  {
   "cell_type": "code",
   "execution_count": 14,
   "metadata": {
    "scrolled": true
   },
   "outputs": [
    {
     "name": "stdout",
     "output_type": "stream",
     "text": [
      "Epoch 1/50\n",
      "57077/57077 [==============================] - 209s 4ms/step - loss: 0.1970\n",
      "Epoch 2/50\n",
      "57077/57077 [==============================] - 209s 4ms/step - loss: 0.1953\n",
      "Epoch 3/50\n",
      "57077/57077 [==============================] - 209s 4ms/step - loss: 0.1981\n",
      "Epoch 4/50\n",
      "57077/57077 [==============================] - 209s 4ms/step - loss: 0.1971\n",
      "Epoch 5/50\n",
      "57077/57077 [==============================] - 206s 4ms/step - loss: 0.1896\n",
      "Epoch 6/50\n",
      "57077/57077 [==============================] - 207s 4ms/step - loss: 0.1919\n",
      "Epoch 7/50\n",
      "57077/57077 [==============================] - 208s 4ms/step - loss: 0.1945\n",
      "Epoch 8/50\n",
      "57077/57077 [==============================] - 901s 16ms/step - loss: 0.1910\n",
      "Epoch 9/50\n",
      "57077/57077 [==============================] - 2340s 41ms/step - loss: 0.1948\n",
      "Epoch 10/50\n",
      "57077/57077 [==============================] - 3743s 66ms/step - loss: 0.1901\n",
      "Epoch 11/50\n",
      "57077/57077 [==============================] - 209s 4ms/step - loss: 0.1987\n",
      "Epoch 12/50\n",
      "57077/57077 [==============================] - 209s 4ms/step - loss: 0.1947\n",
      "Epoch 13/50\n",
      "57077/57077 [==============================] - 209s 4ms/step - loss: 0.1893\n",
      "Epoch 14/50\n",
      "57077/57077 [==============================] - 209s 4ms/step - loss: 0.1965\n",
      "Epoch 15/50\n",
      "57077/57077 [==============================] - 209s 4ms/step - loss: 0.1935\n",
      "Epoch 16/50\n",
      "57077/57077 [==============================] - 209s 4ms/step - loss: 0.1853\n",
      "Epoch 17/50\n",
      "57077/57077 [==============================] - 209s 4ms/step - loss: 0.1896\n",
      "Epoch 18/50\n",
      "57077/57077 [==============================] - 209s 4ms/step - loss: 0.1893\n",
      "Epoch 19/50\n",
      "57077/57077 [==============================] - 208s 4ms/step - loss: 0.1879\n",
      "Epoch 20/50\n",
      "57077/57077 [==============================] - 209s 4ms/step - loss: 0.1884\n",
      "Epoch 21/50\n",
      "57077/57077 [==============================] - 208s 4ms/step - loss: 0.1852\n",
      "Epoch 22/50\n",
      "57077/57077 [==============================] - 209s 4ms/step - loss: 0.1864\n",
      "Epoch 23/50\n",
      "57077/57077 [==============================] - 209s 4ms/step - loss: 0.1853\n",
      "Epoch 24/50\n",
      "57077/57077 [==============================] - 209s 4ms/step - loss: 0.1867\n",
      "Epoch 25/50\n",
      "57077/57077 [==============================] - 209s 4ms/step - loss: 0.1866\n",
      "Epoch 26/50\n",
      "57077/57077 [==============================] - 209s 4ms/step - loss: 0.1831\n",
      "Epoch 27/50\n",
      "57077/57077 [==============================] - 209s 4ms/step - loss: 0.1836\n",
      "Epoch 28/50\n",
      "57077/57077 [==============================] - 209s 4ms/step - loss: 0.1870\n",
      "Epoch 29/50\n",
      "57077/57077 [==============================] - 208s 4ms/step - loss: 0.1846\n",
      "Epoch 30/50\n",
      "57077/57077 [==============================] - 208s 4ms/step - loss: 0.1828\n",
      "Epoch 31/50\n",
      "57077/57077 [==============================] - 207s 4ms/step - loss: 0.1826\n",
      "Epoch 32/50\n",
      "57077/57077 [==============================] - 205s 4ms/step - loss: 0.1810\n",
      "Epoch 33/50\n",
      "57077/57077 [==============================] - 208s 4ms/step - loss: 0.1851\n",
      "Epoch 34/50\n",
      "57077/57077 [==============================] - 210s 4ms/step - loss: 0.1845\n",
      "Epoch 35/50\n",
      "57077/57077 [==============================] - 209s 4ms/step - loss: 0.1858\n",
      "Epoch 36/50\n",
      "57077/57077 [==============================] - 209s 4ms/step - loss: 0.1822\n",
      "Epoch 37/50\n",
      "57077/57077 [==============================] - 209s 4ms/step - loss: 0.1829\n",
      "Epoch 38/50\n",
      "57077/57077 [==============================] - 209s 4ms/step - loss: 0.1775\n",
      "Epoch 39/50\n",
      "57077/57077 [==============================] - 209s 4ms/step - loss: 0.1801\n",
      "Epoch 40/50\n",
      "57077/57077 [==============================] - 209s 4ms/step - loss: 0.1816\n",
      "Epoch 41/50\n",
      "57077/57077 [==============================] - 209s 4ms/step - loss: 0.1860\n",
      "Epoch 42/50\n",
      "57077/57077 [==============================] - 209s 4ms/step - loss: 0.1875\n",
      "Epoch 43/50\n",
      "57077/57077 [==============================] - 209s 4ms/step - loss: 0.1803\n",
      "Epoch 44/50\n",
      "57077/57077 [==============================] - 210s 4ms/step - loss: 0.1821\n",
      "Epoch 45/50\n",
      "57077/57077 [==============================] - 210s 4ms/step - loss: 0.1808\n",
      "Epoch 46/50\n",
      "57077/57077 [==============================] - 210s 4ms/step - loss: 0.1763\n",
      "Epoch 47/50\n",
      "57077/57077 [==============================] - 209s 4ms/step - loss: 0.1785\n",
      "Epoch 48/50\n",
      "57077/57077 [==============================] - 209s 4ms/step - loss: 0.1782\n",
      "Epoch 49/50\n",
      "57077/57077 [==============================] - 209s 4ms/step - loss: 0.1803\n",
      "Epoch 50/50\n",
      "57077/57077 [==============================] - 207s 4ms/step - loss: 0.1826\n"
     ]
    },
    {
     "data": {
      "text/plain": [
       "<keras.callbacks.History at 0x23cb4b522e8>"
      ]
     },
     "execution_count": 14,
     "metadata": {},
     "output_type": "execute_result"
    }
   ],
   "source": [
    "filepath = \"C:/Users/alecr/Projects/deepmusic/models/weights-improvement-{epoch:02d}-{loss:.4f}-bigger.hdf5\"\n",
    "checkpoint = ModelCheckpoint(\n",
    "        filepath,\n",
    "        monitor='loss',\n",
    "        verbose=0,\n",
    "        save_best_only=True,\n",
    "        mode='min'\n",
    "    )\n",
    "callbacks_list = [checkpoint]\n",
    "\n",
    "\n",
    "model.fit(network_input, network_output, epochs=50, batch_size=128, verbose=1, callbacks=callbacks_list)"
   ]
  },
  {
   "cell_type": "markdown",
   "metadata": {},
   "source": [
    "250 epochs so far"
   ]
  },
  {
   "cell_type": "raw",
   "metadata": {},
   "source": [
    "model.save(\"C:/Users/alecr/Projects/deepmusic/models/lstm-original.hdf5\")"
   ]
  },
  {
   "cell_type": "code",
   "execution_count": 13,
   "metadata": {},
   "outputs": [
    {
     "name": "stdout",
     "output_type": "stream",
     "text": [
      "saved weights\n"
     ]
    }
   ],
   "source": [
    "model.save_weights(\"C:/Users/alecr/Projects/deepmusic/models/lstm-original-weights-250.hdf5\")\n",
    "print('saved weights')"
   ]
  },
  {
   "cell_type": "code",
   "execution_count": null,
   "metadata": {},
   "outputs": [],
   "source": []
  }
 ],
 "metadata": {
  "kernelspec": {
   "display_name": "Python 3",
   "language": "python",
   "name": "python3"
  },
  "language_info": {
   "codemirror_mode": {
    "name": "ipython",
    "version": 3
   },
   "file_extension": ".py",
   "mimetype": "text/x-python",
   "name": "python",
   "nbconvert_exporter": "python",
   "pygments_lexer": "ipython3",
   "version": "3.6.5"
  }
 },
 "nbformat": 4,
 "nbformat_minor": 2
}
