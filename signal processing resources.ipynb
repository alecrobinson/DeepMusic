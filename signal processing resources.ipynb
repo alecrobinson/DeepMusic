{
 "cells": [
  {
   "cell_type": "markdown",
   "metadata": {},
   "source": [
    "https://bastibe.de/2012-11-02-real-time-signal-processing-in-python.html"
   ]
  },
  {
   "cell_type": "markdown",
   "metadata": {},
   "source": [
    "http://samcarcagno.altervista.org/blog/basic-sound-processing-python/?doing_wp_cron=1541177064.2667829990386962890625"
   ]
  },
  {
   "cell_type": "markdown",
   "metadata": {},
   "source": [
    "## university of vienna audio processing lecture"
   ]
  },
  {
   "cell_type": "markdown",
   "metadata": {},
   "source": [
    "http://www.ifs.tuwien.ac.at/~schindler/lectures/MIR_Feature_Extraction.html"
   ]
  },
  {
   "cell_type": "markdown",
   "metadata": {},
   "source": [
    "## Jack Minardi's blog"
   ]
  },
  {
   "cell_type": "markdown",
   "metadata": {},
   "source": [
    "http://jack.minardi.org/software/computational-synesthesia/"
   ]
  },
  {
   "cell_type": "code",
   "execution_count": null,
   "metadata": {},
   "outputs": [],
   "source": []
  }
 ],
 "metadata": {
  "kernelspec": {
   "display_name": "Python 3",
   "language": "python",
   "name": "python3"
  },
  "language_info": {
   "codemirror_mode": {
    "name": "ipython",
    "version": 3
   },
   "file_extension": ".py",
   "mimetype": "text/x-python",
   "name": "python",
   "nbconvert_exporter": "python",
   "pygments_lexer": "ipython3",
   "version": "3.6.5"
  }
 },
 "nbformat": 4,
 "nbformat_minor": 2
}
