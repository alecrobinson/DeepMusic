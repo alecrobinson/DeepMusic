{
 "cells": [
  {
   "cell_type": "code",
   "execution_count": 1,
   "metadata": {},
   "outputs": [
    {
     "name": "stderr",
     "output_type": "stream",
     "text": [
      "C:\\Users\\alecr\\Anaconda3\\lib\\site-packages\\h5py\\__init__.py:36: FutureWarning: Conversion of the second argument of issubdtype from `float` to `np.floating` is deprecated. In future, it will be treated as `np.float64 == np.dtype(float).type`.\n",
      "  from ._conv import register_converters as _register_converters\n",
      "Using TensorFlow backend.\n"
     ]
    }
   ],
   "source": [
    "import glob\n",
    "import pickle\n",
    "import numpy\n",
    "from music21 import converter, instrument, note, chord, interval, pitch\n",
    "from keras.models import Sequential\n",
    "from keras.layers import Dense\n",
    "from keras.layers import Dropout\n",
    "from keras.layers import LSTM\n",
    "from keras.layers import Activation\n",
    "from keras.utils import np_utils\n",
    "from keras.callbacks import ModelCheckpoint\n"
   ]
  },
  {
   "cell_type": "code",
   "execution_count": 2,
   "metadata": {},
   "outputs": [],
   "source": [
    "def get_notes(transpose=False):\n",
    "    \"\"\" Get all the notes and chords from the midi files in the ./midi_songs directory \"\"\"\n",
    "    print('starting get_notes')\n",
    "    notes = []\n",
    "\n",
    "    for file in glob.glob(\"C:/Users/alecr/Projects/temp-data/skuldur-classical-piano-composer/*.mid\"):\n",
    "        s = converter.parse(file)\n",
    "        \n",
    "        if (transpose):\n",
    "            k = s.analyze('key')\n",
    "            #print(k)\n",
    "            i = interval.Interval(k.tonic, pitch.Pitch('C'))\n",
    "            midi = s.transpose(i)\n",
    "            #print('piece was in ',k, 'now in ', midi.analyze('key'))\n",
    "        else:\n",
    "            midi = s\n",
    "        #print(i)\n",
    "        #print('s now in ', midi.analyze('key'))\n",
    "        #pieces.append(sNew)\n",
    "\n",
    "        #print(\"Parsing %s\" % file)\n",
    "\n",
    "        notes_to_parse = None\n",
    "\n",
    "        try: # file has instrument parts\n",
    "            s2 = instrument.partitionByInstrument(midi)\n",
    "            notes_to_parse = s2.parts[0].recurse() \n",
    "        except: # file has notes in a flat structure\n",
    "            notes_to_parse = midi.flat.notes\n",
    "\n",
    "        for element in notes_to_parse:\n",
    "            if isinstance(element, note.Note):\n",
    "                notes.append(str(element.pitch))\n",
    "            elif isinstance(element, chord.Chord):\n",
    "                notes.append('.'.join(str(n) for n in element.normalOrder))\n",
    "\n",
    "    #with open('data/notes', 'wb') as filepath:\n",
    "        #pickle.dump(notes, filepath)\n",
    "    print('done')\n",
    "    return notes"
   ]
  },
  {
   "cell_type": "code",
   "execution_count": 3,
   "metadata": {},
   "outputs": [],
   "source": [
    "def prepare_sequences(notes, n_vocab):\n",
    "    \"\"\" Prepare the sequences used by the Neural Network \"\"\"\n",
    "    sequence_length = 100\n",
    "\n",
    "    # get all pitch names\n",
    "    pitchnames = sorted(set(item for item in notes))\n",
    "\n",
    "     # create a dictionary to map pitches to integers\n",
    "    note_to_int = dict((note, number) for number, note in enumerate(pitchnames))\n",
    "\n",
    "    network_input = []\n",
    "    network_output = []\n",
    "\n",
    "    # create input sequences and the corresponding outputs\n",
    "    for i in range(0, len(notes) - sequence_length, 1):\n",
    "        sequence_in = notes[i:i + sequence_length]\n",
    "        sequence_out = notes[i + sequence_length]\n",
    "        network_input.append([note_to_int[char] for char in sequence_in])\n",
    "        network_output.append(note_to_int[sequence_out])\n",
    "\n",
    "    n_patterns = len(network_input)\n",
    "\n",
    "    # reshape the input into a format compatible with LSTM layers\n",
    "    network_input = numpy.reshape(network_input, (n_patterns, sequence_length, 1))\n",
    "    # normalize input\n",
    "    network_input = network_input / float(n_vocab)\n",
    "\n",
    "    network_output = np_utils.to_categorical(network_output)\n",
    "\n",
    "    return (network_input, network_output)"
   ]
  },
  {
   "cell_type": "markdown",
   "metadata": {},
   "source": [
    "# Non transposing original"
   ]
  },
  {
   "cell_type": "code",
   "execution_count": null,
   "metadata": {},
   "outputs": [],
   "source": [
    "\n",
    "\"\"\" Train a Neural Network to generate music \"\"\"\n",
    "notes = get_notes(transpose=False)\n",
    "\n",
    "# get amount of pitch names\n",
    "n_vocab = len(set(notes))\n",
    "\n",
    "network_input, network_output = prepare_sequences(notes, n_vocab)\n",
    "\n",
    "\n",
    "print('notes and sequences prepared')"
   ]
  },
  {
   "cell_type": "code",
   "execution_count": null,
   "metadata": {},
   "outputs": [],
   "source": []
  },
  {
   "cell_type": "code",
   "execution_count": 9,
   "metadata": {},
   "outputs": [
    {
     "data": {
      "text/plain": [
       "57177"
      ]
     },
     "execution_count": 9,
     "metadata": {},
     "output_type": "execute_result"
    }
   ],
   "source": [
    "len(notes)"
   ]
  },
  {
   "cell_type": "code",
   "execution_count": 10,
   "metadata": {},
   "outputs": [],
   "source": [
    "model = Sequential()\n",
    "model.add(LSTM(\n",
    "        512,\n",
    "        input_shape=(network_input.shape[1], network_input.shape[2]),\n",
    "        return_sequences=True\n",
    "))\n",
    "model.add(Dropout(0.3))\n",
    "model.add(LSTM(512, return_sequences=True))\n",
    "model.add(Dropout(0.3))\n",
    "model.add(LSTM(512))\n",
    "model.add(Dense(256))\n",
    "model.add(Dropout(0.3))\n",
    "model.add(Dense(n_vocab))\n",
    "model.add(Activation('softmax'))\n",
    "model.compile(loss='categorical_crossentropy', optimizer='rmsprop')\n"
   ]
  },
  {
   "cell_type": "code",
   "execution_count": 12,
   "metadata": {},
   "outputs": [
    {
     "name": "stdout",
     "output_type": "stream",
     "text": [
      "Epoch 1/1\n",
      "57077/57077 [==============================] - 198s 3ms/step - loss: 4.7647\n"
     ]
    },
    {
     "data": {
      "text/plain": [
       "<keras.callbacks.History at 0x2545cc349e8>"
      ]
     },
     "execution_count": 12,
     "metadata": {},
     "output_type": "execute_result"
    }
   ],
   "source": [
    "filepath = \"C:/Users/alecr/Projects/deepmusic/models/weights-improvement-{epoch:02d}-{loss:.4f}-bigger.hdf5\"\n",
    "checkpoint = ModelCheckpoint(\n",
    "        filepath,\n",
    "        monitor='loss',\n",
    "        verbose=0,\n",
    "        save_best_only=True,\n",
    "        mode='min'\n",
    "    )\n",
    "callbacks_list = [checkpoint]\n",
    "\n",
    "\n",
    "model.fit(network_input, network_output, epochs=1, batch_size=128, verbose=1, callbacks=callbacks_list)"
   ]
  },
  {
   "cell_type": "raw",
   "metadata": {},
   "source": [
    "model.save(\"C:/Users/alecr/Projects/deepmusic/models/lstm-original.hdf5\")"
   ]
  },
  {
   "cell_type": "raw",
   "metadata": {},
   "source": [
    "model.save_weights(\"C:/Users/alecr/Projects/deepmusic/models/lstm-original-weights.hdf5\")"
   ]
  },
  {
   "cell_type": "markdown",
   "metadata": {},
   "source": [
    "# transposer half"
   ]
  },
  {
   "cell_type": "code",
   "execution_count": 4,
   "metadata": {},
   "outputs": [],
   "source": [
    "filepath_t = \"C:/Users/alecr/Projects/deepmusic/models/weights-improvement-transposing{epoch:02d}-{loss:.4f}-bigger.hdf5\"\n",
    "checkpoint = ModelCheckpoint(\n",
    "        filepath_t,\n",
    "        monitor='loss',\n",
    "        verbose=0,\n",
    "        save_best_only=True,\n",
    "        mode='min'\n",
    "    )\n",
    "callbacks_list_t = [checkpoint]"
   ]
  },
  {
   "cell_type": "code",
   "execution_count": 5,
   "metadata": {},
   "outputs": [
    {
     "name": "stdout",
     "output_type": "stream",
     "text": [
      "starting get_notes\n",
      "done\n",
      "notes and sequences prepared\n"
     ]
    }
   ],
   "source": [
    "transposed_notes = get_notes(transpose=True)\n",
    "\n",
    "# get amount of pitch names\n",
    "n_vocab_t = len(set(transposed_notes))\n",
    "\n",
    "network_input_t, network_output_t = prepare_sequences(transposed_notes, n_vocab_t)\n",
    "\n",
    "\n",
    "print('notes and sequences prepared')"
   ]
  },
  {
   "cell_type": "raw",
   "metadata": {},
   "source": [
    "#pickle dump\n",
    "\n",
    "noteFileObject = open(\"C:/Users/alecr/Projects/deepmusic/pickledump/transposed_notes\",'wb')"
   ]
  },
  {
   "cell_type": "raw",
   "metadata": {},
   "source": [
    "pickle.dump(transposed_notes,noteFileObject)"
   ]
  },
  {
   "cell_type": "raw",
   "metadata": {},
   "source": [
    "pickle.dump(network_input_t,fileObject)"
   ]
  },
  {
   "cell_type": "raw",
   "metadata": {},
   "source": [
    "pickle.dump(network_output_t,fileObject)"
   ]
  },
  {
   "cell_type": "raw",
   "metadata": {},
   "source": [
    "fileObject.close()"
   ]
  },
  {
   "cell_type": "code",
   "execution_count": 7,
   "metadata": {},
   "outputs": [],
   "source": [
    "model_t = Sequential()\n",
    "model_t.add(LSTM(\n",
    "        512,\n",
    "        input_shape=(network_input_t.shape[1], network_input_t.shape[2]),\n",
    "        return_sequences=True\n",
    "))\n",
    "model_t.add(Dropout(0.3))\n",
    "model_t.add(LSTM(512, return_sequences=True))\n",
    "model_t.add(Dropout(0.3))\n",
    "model_t.add(LSTM(512))\n",
    "model_t.add(Dense(256))\n",
    "model_t.add(Dropout(0.3))\n",
    "model_t.add(Dense(n_vocab_t))\n",
    "model_t.add(Activation('softmax'))\n",
    "model_t.compile(loss='categorical_crossentropy', optimizer='rmsprop')\n"
   ]
  },
  {
   "cell_type": "code",
   "execution_count": 8,
   "metadata": {},
   "outputs": [],
   "source": [
    "model_t.load_weights(\"C:/Users/alecr/Projects/deepmusic/models//lstm-transposition-weights.hdf5\")"
   ]
  },
  {
   "cell_type": "markdown",
   "metadata": {},
   "source": [
    "currently on training round 2\n",
    "60 + 60 + 120 epochs\n",
    "   "
   ]
  },
  {
   "cell_type": "code",
   "execution_count": 9,
   "metadata": {
    "scrolled": false
   },
   "outputs": [
    {
     "name": "stdout",
     "output_type": "stream",
     "text": [
      "Epoch 1/119\n",
      "57077/57077 [==============================] - 353s 6ms/step - loss: 4.7009\n",
      "Epoch 2/119\n",
      "57077/57077 [==============================] - 352s 6ms/step - loss: 4.7008\n",
      "Epoch 3/119\n",
      "57077/57077 [==============================] - 351s 6ms/step - loss: 4.7007\n",
      "Epoch 4/119\n",
      "57077/57077 [==============================] - 351s 6ms/step - loss: 4.7009\n",
      "Epoch 5/119\n",
      "57077/57077 [==============================] - 354s 6ms/step - loss: 4.7008\n",
      "Epoch 6/119\n",
      "57077/57077 [==============================] - 356s 6ms/step - loss: 4.7003\n",
      "Epoch 7/119\n",
      "57077/57077 [==============================] - 354s 6ms/step - loss: 4.7007\n",
      "Epoch 8/119\n",
      "57077/57077 [==============================] - 352s 6ms/step - loss: 4.7009\n",
      "Epoch 9/119\n",
      "57077/57077 [==============================] - 353s 6ms/step - loss: 4.7005\n",
      "Epoch 10/119\n",
      "57077/57077 [==============================] - 351s 6ms/step - loss: 4.7008\n",
      "Epoch 11/119\n",
      "57077/57077 [==============================] - 351s 6ms/step - loss: 4.7005\n",
      "Epoch 12/119\n",
      "57077/57077 [==============================] - 352s 6ms/step - loss: 4.7003\n",
      "Epoch 13/119\n",
      "57077/57077 [==============================] - 353s 6ms/step - loss: 4.7006\n",
      "Epoch 14/119\n",
      "57077/57077 [==============================] - 355s 6ms/step - loss: 4.7005\n",
      "Epoch 15/119\n",
      "57077/57077 [==============================] - 352s 6ms/step - loss: 4.7005\n",
      "Epoch 16/119\n",
      "57077/57077 [==============================] - 352s 6ms/step - loss: 4.7001\n",
      "Epoch 17/119\n",
      "57077/57077 [==============================] - 352s 6ms/step - loss: 4.7002\n",
      "Epoch 18/119\n",
      "57077/57077 [==============================] - 351s 6ms/step - loss: 4.7000\n",
      "Epoch 19/119\n",
      "57077/57077 [==============================] - 352s 6ms/step - loss: 4.6999\n",
      "Epoch 20/119\n",
      "57077/57077 [==============================] - 352s 6ms/step - loss: 4.6996\n",
      "Epoch 21/119\n",
      "57077/57077 [==============================] - 352s 6ms/step - loss: 4.7003\n",
      "Epoch 22/119\n",
      "57077/57077 [==============================] - 351s 6ms/step - loss: 4.6997\n",
      "Epoch 23/119\n",
      "57077/57077 [==============================] - 351s 6ms/step - loss: 4.6998\n",
      "Epoch 24/119\n",
      "57077/57077 [==============================] - 352s 6ms/step - loss: 4.6999\n",
      "Epoch 25/119\n",
      "57077/57077 [==============================] - 351s 6ms/step - loss: 4.6998\n",
      "Epoch 26/119\n",
      "57077/57077 [==============================] - 351s 6ms/step - loss: 4.7004\n",
      "Epoch 27/119\n",
      "57077/57077 [==============================] - 351s 6ms/step - loss: 4.7001\n",
      "Epoch 28/119\n",
      "57077/57077 [==============================] - 351s 6ms/step - loss: 4.6999\n",
      "Epoch 29/119\n",
      "57077/57077 [==============================] - 352s 6ms/step - loss: 4.7007\n",
      "Epoch 30/119\n",
      "57077/57077 [==============================] - 351s 6ms/step - loss: 4.7005\n",
      "Epoch 31/119\n",
      "57077/57077 [==============================] - 352s 6ms/step - loss: 4.7004\n",
      "Epoch 32/119\n",
      "57077/57077 [==============================] - 352s 6ms/step - loss: 4.7005\n",
      "Epoch 33/119\n",
      "57077/57077 [==============================] - 351s 6ms/step - loss: 4.7007\n",
      "Epoch 34/119\n",
      "57077/57077 [==============================] - 352s 6ms/step - loss: 4.7003\n",
      "Epoch 35/119\n",
      "57077/57077 [==============================] - 352s 6ms/step - loss: 4.7003\n",
      "Epoch 36/119\n",
      "57077/57077 [==============================] - 351s 6ms/step - loss: 4.7008\n",
      "Epoch 37/119\n",
      "57077/57077 [==============================] - 352s 6ms/step - loss: 4.7001\n",
      "Epoch 38/119\n",
      "57077/57077 [==============================] - 352s 6ms/step - loss: 4.7003\n",
      "Epoch 39/119\n",
      "57077/57077 [==============================] - 352s 6ms/step - loss: 4.6998\n",
      "Epoch 40/119\n",
      "57077/57077 [==============================] - 351s 6ms/step - loss: 4.7000\n",
      "Epoch 41/119\n",
      "57077/57077 [==============================] - 351s 6ms/step - loss: 4.6997\n",
      "Epoch 42/119\n",
      "57077/57077 [==============================] - 352s 6ms/step - loss: 4.6998\n",
      "Epoch 43/119\n",
      "57077/57077 [==============================] - 351s 6ms/step - loss: 4.6993\n",
      "Epoch 44/119\n",
      "57077/57077 [==============================] - 352s 6ms/step - loss: 4.6998\n",
      "Epoch 45/119\n",
      "57077/57077 [==============================] - 352s 6ms/step - loss: 4.6995\n",
      "Epoch 46/119\n",
      "57077/57077 [==============================] - 352s 6ms/step - loss: 4.6998\n",
      "Epoch 47/119\n",
      "57077/57077 [==============================] - 351s 6ms/step - loss: 4.6997\n",
      "Epoch 48/119\n",
      "57077/57077 [==============================] - 352s 6ms/step - loss: 4.6997\n",
      "Epoch 49/119\n",
      "57077/57077 [==============================] - 352s 6ms/step - loss: 4.7003\n",
      "Epoch 50/119\n",
      "57077/57077 [==============================] - 351s 6ms/step - loss: 4.7002\n",
      "Epoch 51/119\n",
      "57077/57077 [==============================] - 351s 6ms/step - loss: 4.7000\n",
      "Epoch 52/119\n",
      "57077/57077 [==============================] - 352s 6ms/step - loss: 4.6999\n",
      "Epoch 53/119\n",
      "57077/57077 [==============================] - 351s 6ms/step - loss: 4.7003\n",
      "Epoch 54/119\n",
      "57077/57077 [==============================] - 351s 6ms/step - loss: 4.7005\n",
      "Epoch 55/119\n",
      "57077/57077 [==============================] - 352s 6ms/step - loss: 4.7005\n",
      "Epoch 56/119\n",
      "57077/57077 [==============================] - 351s 6ms/step - loss: 4.7006\n",
      "Epoch 57/119\n",
      "57077/57077 [==============================] - 351s 6ms/step - loss: 4.7006\n",
      "Epoch 58/119\n",
      "57077/57077 [==============================] - 351s 6ms/step - loss: 4.7004\n",
      "Epoch 59/119\n",
      "57077/57077 [==============================] - 351s 6ms/step - loss: 4.7005\n",
      "Epoch 60/119\n",
      "57077/57077 [==============================] - 352s 6ms/step - loss: 4.7001\n",
      "Epoch 61/119\n",
      "57077/57077 [==============================] - 352s 6ms/step - loss: 4.7004\n",
      "Epoch 62/119\n",
      "57077/57077 [==============================] - 351s 6ms/step - loss: 4.7006\n",
      "Epoch 63/119\n",
      "57077/57077 [==============================] - 352s 6ms/step - loss: 4.7004\n",
      "Epoch 64/119\n",
      "57077/57077 [==============================] - 351s 6ms/step - loss: 4.7003\n",
      "Epoch 65/119\n",
      "57077/57077 [==============================] - 351s 6ms/step - loss: 4.7002\n",
      "Epoch 66/119\n",
      "57077/57077 [==============================] - 351s 6ms/step - loss: 4.7005\n",
      "Epoch 67/119\n",
      "57077/57077 [==============================] - 351s 6ms/step - loss: 4.7007\n",
      "Epoch 68/119\n",
      "57077/57077 [==============================] - 351s 6ms/step - loss: 4.7012\n",
      "Epoch 69/119\n",
      "57077/57077 [==============================] - 351s 6ms/step - loss: 4.7007\n",
      "Epoch 70/119\n",
      "57077/57077 [==============================] - 352s 6ms/step - loss: 4.7007\n",
      "Epoch 71/119\n",
      "57077/57077 [==============================] - 352s 6ms/step - loss: 4.7011\n",
      "Epoch 72/119\n",
      "57077/57077 [==============================] - 352s 6ms/step - loss: 4.7006\n",
      "Epoch 73/119\n",
      "57077/57077 [==============================] - 352s 6ms/step - loss: 4.7005\n",
      "Epoch 74/119\n",
      "57077/57077 [==============================] - 352s 6ms/step - loss: 4.7006\n",
      "Epoch 75/119\n",
      "57077/57077 [==============================] - 352s 6ms/step - loss: 4.7006\n",
      "Epoch 76/119\n",
      "57077/57077 [==============================] - 352s 6ms/step - loss: 4.7008\n",
      "Epoch 77/119\n",
      "57077/57077 [==============================] - 352s 6ms/step - loss: 4.7002\n",
      "Epoch 78/119\n",
      "57077/57077 [==============================] - 352s 6ms/step - loss: 4.7002\n",
      "Epoch 79/119\n",
      "57077/57077 [==============================] - 352s 6ms/step - loss: 4.7003\n",
      "Epoch 80/119\n",
      "57077/57077 [==============================] - 352s 6ms/step - loss: 4.7005\n",
      "Epoch 81/119\n",
      "57077/57077 [==============================] - 352s 6ms/step - loss: 4.7004\n",
      "Epoch 82/119\n",
      "57077/57077 [==============================] - 351s 6ms/step - loss: 4.7000\n",
      "Epoch 83/119\n",
      "57077/57077 [==============================] - 351s 6ms/step - loss: 4.7002\n",
      "Epoch 84/119\n",
      "57077/57077 [==============================] - 351s 6ms/step - loss: 4.7007\n",
      "Epoch 85/119\n",
      "57077/57077 [==============================] - 352s 6ms/step - loss: 4.7009\n",
      "Epoch 86/119\n",
      "57077/57077 [==============================] - 352s 6ms/step - loss: 4.7008\n",
      "Epoch 87/119\n",
      "57077/57077 [==============================] - 351s 6ms/step - loss: 4.7005\n",
      "Epoch 88/119\n",
      "57077/57077 [==============================] - 351s 6ms/step - loss: 4.7008\n",
      "Epoch 89/119\n",
      "57077/57077 [==============================] - 352s 6ms/step - loss: 4.7011\n",
      "Epoch 90/119\n",
      "57077/57077 [==============================] - 352s 6ms/step - loss: 4.7008\n",
      "Epoch 91/119\n",
      "57077/57077 [==============================] - 352s 6ms/step - loss: 4.7009\n",
      "Epoch 92/119\n",
      "57077/57077 [==============================] - 352s 6ms/step - loss: 4.7007\n",
      "Epoch 93/119\n"
     ]
    },
    {
     "name": "stdout",
     "output_type": "stream",
     "text": [
      "57077/57077 [==============================] - 352s 6ms/step - loss: 4.7010\n",
      "Epoch 94/119\n",
      "57077/57077 [==============================] - 352s 6ms/step - loss: 4.7006\n",
      "Epoch 95/119\n",
      "57077/57077 [==============================] - 351s 6ms/step - loss: 4.7009\n",
      "Epoch 96/119\n",
      "57077/57077 [==============================] - 352s 6ms/step - loss: 4.7008\n",
      "Epoch 97/119\n",
      "57077/57077 [==============================] - 352s 6ms/step - loss: 4.7010\n",
      "Epoch 98/119\n",
      "57077/57077 [==============================] - 352s 6ms/step - loss: 4.7010\n",
      "Epoch 99/119\n",
      "57077/57077 [==============================] - 351s 6ms/step - loss: 4.7008\n",
      "Epoch 100/119\n",
      "57077/57077 [==============================] - 351s 6ms/step - loss: 4.7008\n",
      "Epoch 101/119\n",
      "57077/57077 [==============================] - 352s 6ms/step - loss: 4.7006\n",
      "Epoch 102/119\n",
      "57077/57077 [==============================] - 351s 6ms/step - loss: 4.7011\n",
      "Epoch 103/119\n",
      "57077/57077 [==============================] - 351s 6ms/step - loss: 4.7010\n",
      "Epoch 104/119\n",
      "57077/57077 [==============================] - 351s 6ms/step - loss: 4.7008\n",
      "Epoch 105/119\n",
      "57077/57077 [==============================] - 351s 6ms/step - loss: 4.7006\n",
      "Epoch 106/119\n",
      "57077/57077 [==============================] - 352s 6ms/step - loss: 4.7010\n",
      "Epoch 107/119\n",
      "57077/57077 [==============================] - 352s 6ms/step - loss: 4.7015\n",
      "Epoch 108/119\n",
      "57077/57077 [==============================] - 352s 6ms/step - loss: 4.7015\n",
      "Epoch 109/119\n",
      "57077/57077 [==============================] - 352s 6ms/step - loss: 4.7014\n",
      "Epoch 110/119\n",
      "57077/57077 [==============================] - 351s 6ms/step - loss: 4.7010\n",
      "Epoch 111/119\n",
      "57077/57077 [==============================] - 352s 6ms/step - loss: 4.7013\n",
      "Epoch 112/119\n",
      "57077/57077 [==============================] - 351s 6ms/step - loss: 4.7010\n",
      "Epoch 113/119\n",
      "57077/57077 [==============================] - 351s 6ms/step - loss: 4.7011\n",
      "Epoch 114/119\n",
      "57077/57077 [==============================] - 351s 6ms/step - loss: 4.7011\n",
      "Epoch 115/119\n",
      "57077/57077 [==============================] - 351s 6ms/step - loss: 4.7012\n",
      "Epoch 116/119\n",
      "57077/57077 [==============================] - 352s 6ms/step - loss: 4.7008\n",
      "Epoch 117/119\n",
      "57077/57077 [==============================] - 351s 6ms/step - loss: 4.7012\n",
      "Epoch 118/119\n",
      "57077/57077 [==============================] - 352s 6ms/step - loss: 4.7013\n",
      "Epoch 119/119\n",
      "57077/57077 [==============================] - 352s 6ms/step - loss: 4.7019\n"
     ]
    },
    {
     "data": {
      "text/plain": [
       "<keras.callbacks.History at 0x22391eeaf28>"
      ]
     },
     "execution_count": 9,
     "metadata": {},
     "output_type": "execute_result"
    }
   ],
   "source": [
    "model_t.fit(network_input_t, network_output_t, epochs=119, batch_size=64 , verbose=1)"
   ]
  },
  {
   "cell_type": "code",
   "execution_count": 10,
   "metadata": {},
   "outputs": [
    {
     "name": "stdout",
     "output_type": "stream",
     "text": [
      "saved\n"
     ]
    }
   ],
   "source": [
    "model_t.save_weights(\"C:/Users/alecr/Projects/deepmusic/models//lstm-transposition-weights.hdf5\")\n",
    "print(\"saved\")"
   ]
  },
  {
   "cell_type": "code",
   "execution_count": 32,
   "metadata": {},
   "outputs": [
    {
     "data": {
      "text/plain": [
       "(57077, 100, 1)"
      ]
     },
     "execution_count": 32,
     "metadata": {},
     "output_type": "execute_result"
    }
   ],
   "source": [
    "network_input.shape"
   ]
  },
  {
   "cell_type": "code",
   "execution_count": 33,
   "metadata": {},
   "outputs": [
    {
     "data": {
      "text/plain": [
       "(57077, 100, 1)"
      ]
     },
     "execution_count": 33,
     "metadata": {},
     "output_type": "execute_result"
    }
   ],
   "source": [
    "network_input_t.shape"
   ]
  },
  {
   "cell_type": "code",
   "execution_count": 36,
   "metadata": {},
   "outputs": [
    {
     "data": {
      "text/plain": [
       "(57077, 358)"
      ]
     },
     "execution_count": 36,
     "metadata": {},
     "output_type": "execute_result"
    }
   ],
   "source": [
    "network_output.shape"
   ]
  },
  {
   "cell_type": "code",
   "execution_count": 37,
   "metadata": {},
   "outputs": [
    {
     "data": {
      "text/plain": [
       "(57077, 344)"
      ]
     },
     "execution_count": 37,
     "metadata": {},
     "output_type": "execute_result"
    }
   ],
   "source": [
    "network_output_t.shape"
   ]
  },
  {
   "cell_type": "code",
   "execution_count": 4,
   "metadata": {},
   "outputs": [
    {
     "ename": "NameError",
     "evalue": "name 'network_output' is not defined",
     "output_type": "error",
     "traceback": [
      "\u001b[1;31m---------------------------------------------------------------------------\u001b[0m",
      "\u001b[1;31mNameError\u001b[0m                                 Traceback (most recent call last)",
      "\u001b[1;32m<ipython-input-4-213600af5a1f>\u001b[0m in \u001b[0;36m<module>\u001b[1;34m()\u001b[0m\n\u001b[1;32m----> 1\u001b[1;33m \u001b[0mnetwork_output\u001b[0m\u001b[1;33m[\u001b[0m\u001b[1;36m0\u001b[0m\u001b[1;33m]\u001b[0m\u001b[1;33m\u001b[0m\u001b[0m\n\u001b[0m",
      "\u001b[1;31mNameError\u001b[0m: name 'network_output' is not defined"
     ]
    }
   ],
   "source": [
    "network_output[0]"
   ]
  },
  {
   "cell_type": "code",
   "execution_count": 15,
   "metadata": {},
   "outputs": [
    {
     "data": {
      "text/plain": [
       "['/job:localhost/replica:0/task:0/device:GPU:0']"
      ]
     },
     "execution_count": 15,
     "metadata": {},
     "output_type": "execute_result"
    }
   ],
   "source": [
    "from keras import backend as K\n",
    "K.tensorflow_backend._get_available_gpus()"
   ]
  },
  {
   "cell_type": "code",
   "execution_count": 16,
   "metadata": {},
   "outputs": [
    {
     "name": "stdout",
     "output_type": "stream",
     "text": [
      "[name: \"/device:CPU:0\"\n",
      "device_type: \"CPU\"\n",
      "memory_limit: 268435456\n",
      "locality {\n",
      "}\n",
      "incarnation: 1051151653148060444\n",
      ", name: \"/device:GPU:0\"\n",
      "device_type: \"GPU\"\n",
      "memory_limit: 6701754613\n",
      "locality {\n",
      "  bus_id: 1\n",
      "  links {\n",
      "  }\n",
      "}\n",
      "incarnation: 7915996438733296818\n",
      "physical_device_desc: \"device: 0, name: GeForce GTX 1070, pci bus id: 0000:01:00.0, compute capability: 6.1\"\n",
      "]\n"
     ]
    }
   ],
   "source": [
    "from tensorflow.python.client import device_lib\n",
    "print(device_lib.list_local_devices())"
   ]
  },
  {
   "cell_type": "code",
   "execution_count": null,
   "metadata": {},
   "outputs": [],
   "source": []
  }
 ],
 "metadata": {
  "kernelspec": {
   "display_name": "Python 3",
   "language": "python",
   "name": "python3"
  },
  "language_info": {
   "codemirror_mode": {
    "name": "ipython",
    "version": 3
   },
   "file_extension": ".py",
   "mimetype": "text/x-python",
   "name": "python",
   "nbconvert_exporter": "python",
   "pygments_lexer": "ipython3",
   "version": "3.6.5"
  }
 },
 "nbformat": 4,
 "nbformat_minor": 2
}
